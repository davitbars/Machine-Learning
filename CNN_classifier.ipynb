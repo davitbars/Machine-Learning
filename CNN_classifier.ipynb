{
  "nbformat": 4,
  "nbformat_minor": 0,
  "metadata": {
    "colab": {
      "provenance": []
    },
    "kernelspec": {
      "name": "python3",
      "display_name": "Python 3"
    },
    "language_info": {
      "name": "python"
    }
  },
  "cells": [
    {
      "cell_type": "code",
      "execution_count": null,
      "metadata": {
        "id": "RtYcPz9abcCD"
      },
      "outputs": [],
      "source": [
        "import numpy as np\n",
        "import pandas as pd\n",
        "import torch\n",
        "import torch.nn as nn\n",
        "import torchvision\n",
        "import torchvision.transforms as transforms\n",
        "from torch.utils.data import DataLoader, Dataset"
      ]
    },
    {
      "cell_type": "code",
      "source": [
        "#mount google drive to access the files\n",
        "from google.colab import drive\n",
        "drive.mount('/content/drive')\n",
        "\n",
        "# Use the GPU instead of CPU\n",
        "device = torch.device('cuda' if torch.cuda.is_available() else 'cpu')"
      ],
      "metadata": {
        "colab": {
          "base_uri": "https://localhost:8080/"
        },
        "id": "3bsN1fxbfUUD",
        "outputId": "1959172c-5815-45e1-bdf1-aa18862ca24b"
      },
      "execution_count": null,
      "outputs": [
        {
          "output_type": "stream",
          "name": "stdout",
          "text": [
            "Mounted at /content/drive\n"
          ]
        }
      ]
    },
    {
      "cell_type": "code",
      "source": [
        "# Pull in the data from CSV files\n",
        "train_data = pd.read_csv('/content/drive/My Drive/train_data.csv')\n",
        "train_target = pd.read_csv('/content/drive/My Drive/train_target.csv')\n",
        "test_data = pd.read_csv('/content/drive/My Drive/test_data.csv')\n",
        "\n",
        "# print shape to verify successful import\n",
        "print(\"Train Data : \" + str(train_data.shape))\n",
        "print(\"Train Data Target : \" + str(train_target.shape))\n",
        "print(\"Test Data : \" + str(test_data.shape))"
      ],
      "metadata": {
        "colab": {
          "base_uri": "https://localhost:8080/"
        },
        "id": "YYXaaEzmcXXF",
        "outputId": "9a2d60b9-f4aa-49e2-b3a0-ea34c67d51e1"
      },
      "execution_count": null,
      "outputs": [
        {
          "output_type": "stream",
          "name": "stdout",
          "text": [
            "Train Data : (16174, 2304)\n",
            "Train Data Target : (16174, 1)\n",
            "Test Data : (3964, 2304)\n"
          ]
        }
      ]
    },
    {
      "cell_type": "code",
      "source": [
        "# Data Preprocessing\n",
        "# Convert the data to NumPy arrays and reshape them to image dimensions (48x48)\n",
        "train_images = np.array(train_data.values, dtype='uint8').reshape(-1, 1, 48, 48)\n",
        "train_labels = np.array(train_target.values, dtype='int64').squeeze()\n",
        "test_images = np.array(test_data.values, dtype='uint8').reshape(-1, 1, 48, 48)\n",
        "\n",
        "# Normalize the pixel values to the range [0, 1]\n",
        "train_images = train_images / 255.0\n",
        "test_images = test_images / 255.0\n",
        "\n",
        "# Convert data to PyTorch tensors\n",
        "train_images = torch.tensor(train_images, dtype=torch.float32)\n",
        "train_labels = torch.tensor(train_labels, dtype=torch.int64)\n",
        "test_images = torch.tensor(test_images, dtype=torch.float32)"
      ],
      "metadata": {
        "id": "RMONmYQIh5LJ"
      },
      "execution_count": null,
      "outputs": []
    },
    {
      "cell_type": "code",
      "source": [
        "class FacialExpressionDataset(Dataset):\n",
        "    def __init__(self, images, labels=None, transform=None):\n",
        "        self.images = images\n",
        "        self.labels = labels\n",
        "        self.transform = transform\n",
        "\n",
        "    def __len__(self):\n",
        "        return len(self.images)\n",
        "\n",
        "    def __getitem__(self, index):\n",
        "        image = self.images[index]\n",
        "        if self.transform:\n",
        "            # If the image is not a tensor, apply the transform\n",
        "            if not torch.is_tensor(image):\n",
        "                image = self.transform(image)\n",
        "        if self.labels is not None:\n",
        "            label = self.labels[index]\n",
        "            return image, label\n",
        "        else:\n",
        "            return image  # Return only the image for the test set\n"
      ],
      "metadata": {
        "id": "SugFF8hGoxZ8"
      },
      "execution_count": null,
      "outputs": []
    },
    {
      "cell_type": "code",
      "source": [
        "# Data augmentation and transformation for training dataset\n",
        "train_transform = transforms.Compose([\n",
        "    transforms.RandomHorizontalFlip(),\n",
        "    transforms.RandomAffine(degrees=10, translate=(0.1, 0.1)),\n",
        "    transforms.ToTensor()\n",
        "])\n",
        "\n",
        "# Apply transformation to training dataset\n",
        "train_dataset = FacialExpressionDataset(train_images, train_labels, transform=train_transform)\n",
        "# Test dataset does not require any transformation, so no need to specify a transform\n",
        "test_dataset = FacialExpressionDataset(test_images)"
      ],
      "metadata": {
        "id": "nGRQcP5gq9pI"
      },
      "execution_count": null,
      "outputs": []
    },
    {
      "cell_type": "code",
      "source": [
        "# Define hyperparameters\n",
        "batch_size = 32\n",
        "num_epochs = 20\n",
        "learning_rate = 0.001\n",
        "\n",
        "# Create dataloaders\n",
        "train_loader = DataLoader(train_dataset, batch_size=batch_size, shuffle=True)\n",
        "test_loader = DataLoader(test_dataset, batch_size=batch_size, shuffle=False)"
      ],
      "metadata": {
        "id": "XVWgBVl2rCpb"
      },
      "execution_count": null,
      "outputs": []
    },
    {
      "cell_type": "code",
      "source": [
        "# Define the CNN model\n",
        "class FacialExpressionModel(nn.Module):\n",
        "    def __init__(self):\n",
        "        super(FacialExpressionModel, self).__init__()\n",
        "        self.conv_layers = nn.Sequential(\n",
        "            nn.Conv2d(1, 32, kernel_size=3, stride=1, padding=1),\n",
        "            nn.ReLU(),\n",
        "            nn.MaxPool2d(kernel_size=2, stride=2),\n",
        "            nn.Conv2d(32, 64, kernel_size=3, stride=1, padding=1),\n",
        "            nn.ReLU(),\n",
        "            nn.MaxPool2d(kernel_size=2, stride=2)\n",
        "        )\n",
        "        self.fc_layers = nn.Sequential(\n",
        "            nn.Linear(64 * 12 * 12, 128),\n",
        "            nn.ReLU(),\n",
        "            nn.Linear(128, 3)  # 3 output classes (Angry, Happy, Neutral)\n",
        "        )\n",
        "\n",
        "    def forward(self, x):\n",
        "        x = self.conv_layers(x)\n",
        "        x = x.view(x.size(0), -1)  # Flatten the output from convolutional layers\n",
        "        x = self.fc_layers(x)\n",
        "        return x"
      ],
      "metadata": {
        "id": "jnLLhf3brDb6"
      },
      "execution_count": null,
      "outputs": []
    },
    {
      "cell_type": "code",
      "source": [
        "# Initialize the model and move it to the device (GPU or CPU)\n",
        "model = FacialExpressionModel().to(device)\n",
        "\n",
        "# Define the loss function and optimizer\n",
        "criterion = nn.CrossEntropyLoss()\n",
        "optimizer = torch.optim.Adam(model.parameters(), lr=learning_rate)\n",
        "\n",
        "# Training the model\n",
        "for epoch in range(num_epochs):\n",
        "    model.train()  # Set the model to training mode\n",
        "    total_loss = 0.0\n",
        "    for images, labels in train_loader:\n",
        "        images, labels = images.to(device), labels.to(device)\n",
        "        optimizer.zero_grad()\n",
        "        outputs = model(images)\n",
        "        loss = criterion(outputs, labels)\n",
        "        loss.backward()\n",
        "        optimizer.step()\n",
        "        total_loss += loss.item()\n",
        "\n",
        "    # Print the average loss for each epoch\n",
        "    print(f\"Epoch {epoch + 1}/{num_epochs}, Loss: {total_loss / len(train_loader)}\")"
      ],
      "metadata": {
        "colab": {
          "base_uri": "https://localhost:8080/"
        },
        "id": "hw9p0V2DrLdn",
        "outputId": "b717dcf7-5c11-4bf8-c45c-70d417cb700e"
      },
      "execution_count": null,
      "outputs": [
        {
          "output_type": "stream",
          "name": "stdout",
          "text": [
            "Epoch 1/20, Loss: 0.9946656854963114\n",
            "Epoch 2/20, Loss: 0.8604100542106176\n",
            "Epoch 3/20, Loss: 0.7955482696945017\n",
            "Epoch 4/20, Loss: 0.7433649482345392\n",
            "Epoch 5/20, Loss: 0.7091523840022181\n",
            "Epoch 6/20, Loss: 0.6852335075262507\n",
            "Epoch 7/20, Loss: 0.65933586415566\n",
            "Epoch 8/20, Loss: 0.6356626164182844\n",
            "Epoch 9/20, Loss: 0.6128647646649553\n",
            "Epoch 10/20, Loss: 0.5877351085894664\n",
            "Epoch 11/20, Loss: 0.5635497533521162\n",
            "Epoch 12/20, Loss: 0.5432314073203109\n",
            "Epoch 13/20, Loss: 0.5171991218279002\n",
            "Epoch 14/20, Loss: 0.49862710554373596\n",
            "Epoch 15/20, Loss: 0.46994125430763\n",
            "Epoch 16/20, Loss: 0.44811054940515826\n",
            "Epoch 17/20, Loss: 0.4229429862774879\n",
            "Epoch 18/20, Loss: 0.39738762755638996\n",
            "Epoch 19/20, Loss: 0.37931623831096845\n",
            "Epoch 20/20, Loss: 0.3514785026844311\n"
          ]
        }
      ]
    },
    {
      "cell_type": "code",
      "source": [
        "# Evaluation on the test set\n",
        "model.eval()  # Set the model to evaluation mode\n",
        "predictions = []\n",
        "with torch.no_grad():\n",
        "    for images in test_loader:\n",
        "        images = images.to(device)\n",
        "        outputs = model(images)\n",
        "        _, predicted = torch.max(outputs.data, 1)\n",
        "        predictions.extend(predicted.cpu().numpy())\n",
        "\n",
        "# Save predictions to a CSV file in the required format\n",
        "submission_df = pd.DataFrame({'Id': range(len(predictions)), 'Category': predictions})\n",
        "submission_df.to_csv('/content/drive/My Drive/facial_expression_predictions4.csv', index=False)"
      ],
      "metadata": {
        "id": "PyP9VKtfrRSS"
      },
      "execution_count": null,
      "outputs": []
    }
  ]
}