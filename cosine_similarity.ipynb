{
  "nbformat": 4,
  "nbformat_minor": 0,
  "metadata": {
    "colab": {
      "provenance": []
    },
    "kernelspec": {
      "name": "python3",
      "display_name": "Python 3"
    },
    "language_info": {
      "name": "python"
    }
  },
  "cells": [
    {
      "cell_type": "code",
      "execution_count": null,
      "metadata": {
        "colab": {
          "base_uri": "https://localhost:8080/"
        },
        "id": "oaHOacRwOA4f",
        "outputId": "23baec50-805a-4bcd-afec-6d7c9577ea28"
      },
      "outputs": [
        {
          "output_type": "stream",
          "name": "stdout",
          "text": [
            "[[1.  0.8]\n",
            " [0.8 1. ]]\n"
          ]
        }
      ],
      "source": [
        "from sklearn.feature_extraction.text import CountVectorizer\n",
        "from sklearn.metrics.pairwise import cosine_similarity\n",
        "\n",
        "#we are trying to quantify how similar these two strings are\n",
        "text = [\"London Paris London\", \"Paris Paris London\"]\n",
        "\n",
        "#count of each word in each string. sprints as london,paris\n",
        "cv = CountVectorizer()\n",
        "count_matrix = cv.fit_transform(text)\n",
        "#print(count_matrix.toarray())\n",
        "\n",
        "#finding cosine similarity. It prints as:\n",
        "#Fist string similar to First string by 1, first string similar to second string by 0.8\n",
        "similarity_scores = cosine_similarity(count_matrix)\n",
        "print(similarity_scores)"
      ]
    }
  ]
}